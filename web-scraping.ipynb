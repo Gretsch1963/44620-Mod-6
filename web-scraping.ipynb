{
 "cells": [
  {
   "cell_type": "markdown",
   "metadata": {},
   "source": [
    "# Web Mining and Applied NLP (44-620)\n",
    "\n",
    "## Web Scraping and NLP with Requests, BeautifulSoup, and spaCy\n",
    "\n",
    "### Student Name: John Hickman \n",
    "\n",
    "### Git Hub Link: https://github.com/Gretsch1963/44620-Mod-6/tree/master\n",
    "\n",
    "Perform the tasks described in the Markdown cells below.  When you have completed the assignment make sure your code cells have all been run (and have output beneath them) and ensure you have committed and pushed ALL of your changes to your assignment repository.\n",
    "\n",
    "Every question that requires you to write code will have a code cell underneath it; you may either write your entire solution in that cell or write it in a python file (`.py`), then import and run the appropriate code to answer the question."
   ]
  },
  {
   "cell_type": "markdown",
   "metadata": {},
   "source": [
    "## Question 1"
   ]
  },
  {
   "cell_type": "markdown",
   "metadata": {},
   "source": [
    "1. Write code that extracts the article html from https://web.archive.org/web/20210327165005/https://hackaday.com/2021/03/22/how-laser-headlights-work/ and dumps it to a .pkl (or other appropriate file)"
   ]
  },
  {
   "cell_type": "code",
   "execution_count": 54,
   "metadata": {},
   "outputs": [
    {
     "name": "stdout",
     "output_type": "stream",
     "text": [
      "Article saved to a file\n"
     ]
    }
   ],
   "source": [
    "\n",
    "from bs4 import BeautifulSoup\n",
    "\n",
    "from contextlib import redirect_stdout\n",
    "\n",
    "from spacytextblob.spacytextblob import SpacyTextBlob\n",
    "\n",
    "from spacy.lang.en.stop_words import STOP_WORDS\n",
    "\n",
    "import requests\n",
    "\n",
    "import pickle\n",
    "\n",
    "import io\n",
    "\n",
    "import re\n",
    "\n",
    "import spacy\n",
    "\n",
    "from collections import Counter\n",
    "\n",
    "import matplotlib.pyplot as plt\n",
    "\n",
    "import numpy as np\n",
    "\n",
    "url = \"https://web.archive.org/web/20210327165005/https://hackaday.com/2021/03/22/how-laser-headlights-work/\"\n",
    "\n",
    "response = requests.get(url)\n",
    "\n",
    "# Check if the request was successful\n",
    "if response.status_code == 200:\n",
    "    html_content = response.text\n",
    "    soup = BeautifulSoup(html_content, \"html.parser\")\n",
    "    article = soup.find(\"article\")\n",
    "\n",
    "    if article:\n",
    "        with open(\"article.pkl\", \"wb\") as file:\n",
    "            pickle.dump(str(article), file)\n",
    "            print(\"Article saved to a file\")\n",
    "    else:\n",
    "        print(\"Article not found\")\n",
    "else:\n",
    "    print(\"Webpage Error\")"
   ]
  },
  {
   "cell_type": "markdown",
   "metadata": {},
   "source": [
    "## Question 2"
   ]
  },
  {
   "cell_type": "markdown",
   "metadata": {},
   "source": [
    "2. Read in your article's html source from the file you created in question 1 and print it's text (use `.get_text()`)"
   ]
  },
  {
   "cell_type": "code",
   "execution_count": 56,
   "metadata": {},
   "outputs": [
    {
     "name": "stdout",
     "output_type": "stream",
     "text": [
      "How Laser Headlights Work\n",
      "                130 Comments            \n",
      "by:\n",
      "Lewin Day\n",
      "March 22, 2021\n",
      "When we think about the onward march of automotive technology, headlights aren’t usually the first thing that come to mind. Engines, fuel efficiency, and the switch to electric power are all more front of mind. However, that doesn’t mean there aren’t thousands of engineers around the world working to improve the state of the art in automotive lighting day in, day out.\n",
      "Sealed beam headlights gave way to more modern designs once regulations loosened up, while bulbs moved from simple halogens to xenon HIDs and, more recently, LEDs. Now, a new technology is on the scene, with lasers!\n",
      "Laser Headlights?!\n",
      "BWM’s prototype laser headlight assemblies undergoing testing.\n",
      "The first image brought to mind by the phrase “laser headlights” is that of laser beams firing out the front of an automobile. Obviously, coherent beams of monochromatic light would make for poor illumination outside of a very specific spot quite some distance away. Thankfully for our eyes, laser headlights don’t work in this way at all.\n",
      "Instead, laser headlights consist of one or more solid state laser diodes mounted inside the headlight. These blue lasers are fired at a yellow phosphor, similar to that used in white LEDs. This produces a powerful, vibrant white light that can then be bounced off reflectors and out of the headlights towards the road. Laser headlights built in this way have several benefits. They’re more energy efficient than LEDs that put out the same amount of light, while also being more space efficient, too.\n",
      "BWM’s futuristic i8 was one of the first vehicles to ship with laser headlight technology.\n",
      "Laser headlights are still a nascent technology, thus far only appearing in a few BMW, Audi, and other select vehicles. BMW’s technology was developed in partnership with lighting experts OSRAM. In practice, a regular LED low-beam lamp is used, with the laser used to create an incredibly bright and focused spot, used for high-beams. This can provide illumination out to 600 meters ahead of the vehicle, double that of conventional LED high beams. The lights use indium gallium nitride diode lasers that were originally used in projectors, with power levels above 1 watt. One of the challenges in implementing such technology in an automotive environment is the need for it to operate at temperature extremes. While research lasers and laser pointers may primarily be used at typical room temperatures, automotive headlights must be able to withstand everything from 40 degrees below zero up to 50 degrees C. Thankfully, the laser’s high efficiency means it doesn’t have huge heat output of its own to further complicate things. Other engineering challenges involve tailoring the optics package for the rough-and-tumble, high vibration environment found in the automotive application. It’s also important to ensure, as with any such device, that the end user can’t be exposed to harmful laser radiation in the event of accident or malfunction.\n",
      "Tearing Down the Laser Headlight\n",
      "A marketing image showing the construction of an aftermarket LED/laser headlight. We’d take the laser power with a grain of salt — it’s difficult to imagine a 10 W laser shining directly on some small LEDs without melting a hole through the board in short order.\n",
      "An aftermarket has sprung up too, with delightfully innovative designs. Combined laser/LED headlights are readily available on Alibaba, designed as a drop in replacement for projector lamps on existing vehicles. These often use an LED low-beam, and a combined LED/laser high beam, where the laser diode shoots directly at the LED phosphor to excite it further, rather than using its own. These units often also come with fan cooling to keep the laser and LEDs below their maximum operational temperature. Such developments are exciting, though it’s important to be wary of the performance of unknown aftermarket headlights. Many aftermarket LED headlight “upgrades” fail to pass muster when it comes to real-world performance, and there’s no reason to believe hybrid LED/laser designs will be any different. We’d love to pass a selection of these parts through a full IIHS test protocol, but that’s sadly beyond the scope (and budget!) of this article.\n",
      "However, [mikeselectricstuff] has happened to lay his hands on both the BMW and aftermarket parts, tearing them all down in his workshop to see what makes them tick. The differences are multitude when laid bare on the bench. The AliExpress part is relatively simple, wired up no differently from a regular headlight. Interestingly, however, the laser high-beam circuit runs all the time in these parts. To prevent blinding other road users, a shutter is kept in place to block the light, which is moved out of the way with a solenoid when the driver turns on the high beam switch.\n",
      "Where the aftermarket part is a little out of left field, the BMW design is another thing entirely. The cutting-edge headlights are hooked up with multiple connectors and over 30 conductors, with much of the driver electronics living in an external controller. Much of this is to drive the various LEDs and stepper motors for slewing the headlights when steering. However, the laser assembly brings its own complexities. Twin light sensors are built inside to monitor the laser beam, and a special metal blocking arm sits directly in front of the diode, presumably to stop the laser light leaving the headlight in the event the phosphor coating burns through. It’s truly wild to get a look inside a modern luxury car’s headlight and see just how far we’ve come from the old days of simple sealed beams.\n",
      "Cost Versus Performance\n",
      "Despite the efficiency gains available, the technology remains expensive. Powerful laser diodes don’t come cheap, after all. However, as the technology trickles down to lower-end models, it’s likely that we could see economies of scale change that for the better. Indeed, if national authorities begin to demand higher performance headlights as standard, we could see laser headlights become the norm, rather than an expensive luxury. The technology could naturally be applied to home and commercial lighting, too — though we suspect the potential gains are limited enough that LED lighting will remain the norm for some time to come.\n",
      "The high light output of laser headlights in a compact package allows engineers greater freedom when designing the front-end of a car.\n",
      "As it currently stands, much of the appeal of the new technology is about the packaging benefits, which allow automotive designers greater freedom around the headlight area. Such concerns are less of a factor when it comes to light fittings in the home or office, or indeed, on lower-end automobiles. Regardless, it’s an exciting new application for lasers and one we’ll be sure to see more of in the future.\n",
      "Posted in car hacks, Engineering, Featured, Laser Hacks, SliderTagged laser, laser headlight, laser headlights, light \n"
     ]
    }
   ],
   "source": [
    "import pickle\n",
    "from bs4 import BeautifulSoup\n",
    "\n",
    "# Read the article HTML from the file\n",
    "with open(\"article.pkl\", \"rb\") as file:\n",
    "    html_content = pickle.load(file)\n",
    "\n",
    "soup = BeautifulSoup(html_content, \"html.parser\")\n",
    "text = soup.get_text()\n",
    "\n",
    "# removing empty lines for redability purposes\n",
    "text_without_empty_lines = \"\\n\".join(line for line in text.split(\"\\n\") if line.strip())\n",
    "\n",
    "print(text_without_empty_lines)"
   ]
  },
  {
   "cell_type": "markdown",
   "metadata": {},
   "source": [
    "## Question 3 "
   ]
  },
  {
   "cell_type": "markdown",
   "metadata": {},
   "source": [
    "3. Load the article text into a trained `spaCy` pipeline, and determine the 5 most frequent tokens (converted to lower case).  Print the common tokens with an appropriate label.  Additionally, print the tokens their frequencies (with appropriate labels). Make sure to remove things we don't care about (punctuation, stopwords, whitespace)."
   ]
  },
  {
   "cell_type": "code",
   "execution_count": 57,
   "metadata": {},
   "outputs": [
    {
     "name": "stdout",
     "output_type": "stream",
     "text": [
      "Five most frequent tokens:\n",
      "laser: 35 occurrences\n",
      "headlights: 19 occurrences\n",
      "headlight: 11 occurrences\n",
      "technology: 10 occurrences\n",
      "led: 10 occurrences\n"
     ]
    }
   ],
   "source": [
    "import pickle\n",
    "import spacy\n",
    "from collections import Counter\n",
    "import string\n",
    "from spacy.lang.en.stop_words import STOP_WORDS\n",
    "\n",
    "def preprocess_text(text):\n",
    "    \n",
    "    nlp = spacy.load(\"en_core_web_sm\")\n",
    "    \n",
    "    \n",
    "    doc = nlp(text)\n",
    "\n",
    "    \n",
    "    tokens = [token.text.lower() for token in doc if token.text.lower() not in STOP_WORDS and token.text.lower() not in string.punctuation and not token.is_space]\n",
    "    \n",
    "    return tokens\n",
    "\n",
    "if __name__ == \"__main__\":\n",
    "    try:\n",
    "        with open(\"article.pkl\", \"rb\") as file:\n",
    "            article_html = pickle.load(file)\n",
    "            soup = BeautifulSoup(article_html, 'html.parser')\n",
    "            article_text = soup.get_text()\n",
    "\n",
    "            \n",
    "            tokens = preprocess_text(article_text)\n",
    "\n",
    "            \n",
    "            most_common_tokens = Counter(tokens).most_common(5)\n",
    "\n",
    "            print(\"Five most frequent tokens:\")\n",
    "            for token, frequency in most_common_tokens:\n",
    "                print(f\"{token}: {frequency} occurrences\")\n",
    "\n",
    "    except FileNotFoundError:\n",
    "        print(\"File 'article.pkl' not found.\")\n",
    "    except Exception as e:\n",
    "        print(f\"An error occurred: {e}\")"
   ]
  },
  {
   "cell_type": "markdown",
   "metadata": {},
   "source": [
    "## Question 4"
   ]
  },
  {
   "cell_type": "markdown",
   "metadata": {},
   "source": [
    "4. Load the article text into a trained `spaCy` pipeline, and determine the 5 most frequent lemmas (converted to lower case).  Print the common lemmas with an appropriate label.  Additionally, print the lemmas with their frequencies (with appropriate labels). Make sure to remove things we don't care about (punctuation, stopwords, whitespace)."
   ]
  },
  {
   "cell_type": "code",
   "execution_count": 58,
   "metadata": {},
   "outputs": [
    {
     "name": "stdout",
     "output_type": "stream",
     "text": [
      "Top 5 most frequent lemmas:\n",
      "'laser': 40\n",
      "'headlight': 28\n",
      "'beam': 12\n",
      "'technology': 10\n",
      "'light': 10\n"
     ]
    }
   ],
   "source": [
    "import pickle\n",
    "import spacy\n",
    "from collections import Counter\n",
    "import string\n",
    "\n",
    "nlp = spacy.load(\"en_core_web_sm\")\n",
    "\n",
    "def preprocess_text(text):\n",
    "\n",
    "    doc = nlp(text)\n",
    "\n",
    "    filtered_tokens = [token.lemma_.lower() for token in doc if not token.is_punct and not token.is_stop and not token.is_space]\n",
    "\n",
    "    return filtered_tokens\n",
    "\n",
    "if __name__ == \"__main__\":\n",
    "    try:\n",
    "        with open(\"article.pkl\", \"rb\") as file:\n",
    "            article_html = pickle.load(file)\n",
    "            soup = BeautifulSoup(article_html, 'html.parser')\n",
    "            article_text = soup.get_text()\n",
    "\n",
    "            lemmas = preprocess_text(article_text)\n",
    "\n",
    "            lemma_frequencies = Counter(lemmas)\n",
    "\n",
    "            most_common_lemmas = lemma_frequencies.most_common(5)\n",
    "\n",
    "            print(\"Top 5 most frequent lemmas:\")\n",
    "            for lemma, frequency in most_common_lemmas:\n",
    "                print(f\"'{lemma}': {frequency}\")\n",
    "\n",
    "    except FileNotFoundError:\n",
    "        print(\"File 'article.pkl' not found.\")\n",
    "    except Exception as e:\n",
    "        print(f\"An error occurred: {e}\")"
   ]
  },
  {
   "cell_type": "markdown",
   "metadata": {},
   "source": [
    "## Question 5"
   ]
  },
  {
   "cell_type": "markdown",
   "metadata": {},
   "source": [
    "5. Define the following methods:\n",
    "    * `score_sentence_by_token(sentence, interesting_token)` that takes a sentence and a list of interesting token and returns the number of times that any of the interesting words appear in the sentence divided by the number of words in the sentence\n",
    "    * `score_sentence_by_lemma(sentence, interesting_lemmas)` that takes a sentence and a list of interesting lemmas and returns the number of times that any of the interesting lemmas appear in the sentence divided by the number of words in the sentence\n",
    "    \n",
    "You may find some of the code from the in class notes useful; feel free to use methods (rewrite them in this cell as well).  Test them by showing the score of the first sentence in your article using the frequent tokens and frequent lemmas identified in question 3."
   ]
  },
  {
   "cell_type": "code",
   "execution_count": 59,
   "metadata": {},
   "outputs": [],
   "source": [
    "import re\n",
    "\n",
    "def score_sentence_by_token(sentence, interesting_tokens): \n",
    "   \n",
    "    sentence_length = len(sentence.split())\n",
    "    interesting_token = [token[0] for token in interesting_tokens]\n",
    "    sentence = re.sub(r'[^\\w\\s]', '', sentence)\n",
    "    counter = 0\n",
    "    for _ in sentence.lower().split():\n",
    "        if _ in interesting_token:\n",
    "            counter+=1\n",
    "    if counter>0:\n",
    "        score = counter/sentence_length\n",
    "        return score\n",
    "    else:\n",
    "        return 'No tokens found'\n",
    "    \n"
   ]
  },
  {
   "cell_type": "code",
   "execution_count": 60,
   "metadata": {},
   "outputs": [],
   "source": [
    "\n",
    "# testing the first sentence \n",
    "sentence = '''When we think about the onward march of automotive technology, headlights aren’t usually the first thing that come to mind.'''"
   ]
  },
  {
   "cell_type": "code",
   "execution_count": 61,
   "metadata": {},
   "outputs": [
    {
     "data": {
      "text/plain": [
       "0.1"
      ]
     },
     "execution_count": 61,
     "metadata": {},
     "output_type": "execute_result"
    }
   ],
   "source": [
    "score_sentence_by_token(sentence.lower(),most_common_tokens)"
   ]
  },
  {
   "cell_type": "code",
   "execution_count": 64,
   "metadata": {},
   "outputs": [
    {
     "data": {
      "text/plain": [
       "0.05"
      ]
     },
     "execution_count": 64,
     "metadata": {},
     "output_type": "execute_result"
    }
   ],
   "source": [
    "\n",
    "\n",
    "def score_sentence_by_lemma(sentence, interesting_lemmas):\n",
    "    \n",
    "    sentence_length = len(sentence.split())\n",
    "    interesting_lemmas = [lemma[0] for lemma in interesting_lemmas]\n",
    "    sentence = re.sub(r'[^\\w\\s]', '', sentence)\n",
    "    counter = 0\n",
    "    for _ in sentence.lower().strip().split():\n",
    "        if _ in interesting_lemmas:\n",
    "            counter+=1\n",
    "    if counter>0:\n",
    "        score = counter/sentence_length\n",
    "        return score\n",
    "    else:\n",
    "        return 'No lemmas found'\n",
    "    \n",
    "score_sentence_by_lemma(sentence, most_common_lemmas)"
   ]
  },
  {
   "cell_type": "markdown",
   "metadata": {},
   "source": [
    "## Question 6"
   ]
  },
  {
   "cell_type": "markdown",
   "metadata": {},
   "source": [
    "6. Make a list containing the scores (using tokens) of every sentence in the article, and plot a histogram with appropriate titles and axis labels of the scores. From your histogram, what seems to be the most common range of scores (put the answer in a comment after your code)?"
   ]
  },
  {
   "cell_type": "code",
   "execution_count": 70,
   "metadata": {},
   "outputs": [
    {
     "data": {
      "image/png": "[encoded data removed]",
      "text/plain": [
       "<Figure size 640x480 with 1 Axes>"
      ]
     },
     "metadata": {},
     "output_type": "display_data"
    }
   ],
   "source": [
    "# Clean up the article for processing \n",
    "\n",
    "start_string = \"2021\"\n",
    "start_index = text_without_empty_lines.index(start_string) + len(start_string)\n",
    "text_to_process = text_without_empty_lines[start_index:]\n",
    "\n",
    "# Processing \n",
    "doc = nlp(text_to_process)\n",
    "sentences = sentences = [sent.text.strip() for sent in doc.sents if sent.text.strip()]\n",
    "sentences = sentences[:54]\n",
    "tokens_hist_values = [score_sentence_by_token(sentence, most_common_tokens) for sentence in sentences if score_sentence_by_token(sentence, most_common_tokens) != 'No tokens found']\n",
    "\n",
    "# Graph\n",
    "\n",
    "plt.hist(tokens_hist_values, bins=10, range=(0, 1),edgecolor='red', linewidth=1.5,alpha=0.8)\n",
    "plt.xticks(np.arange(0, 1.1, 0.1))\n",
    "plt.xlabel('Sentence Score')\n",
    "plt.ylabel('Score Frequency')\n",
    "plt.title('Token Score Distribution')\n",
    "\n",
    "plt.show();"
   ]
  },
  {
   "cell_type": "markdown",
   "metadata": {},
   "source": [
    "## Question 7"
   ]
  },
  {
   "cell_type": "markdown",
   "metadata": {},
   "source": [
    "7. Make a list containing the scores (using lemmas) of every sentence in the article, and plot a histogram with appropriate titles and axis labels of the scores.  From your histogram, what seems to be the most common range of scores (put the answer in a comment after your code)?"
   ]
  },
  {
   "cell_type": "code",
   "execution_count": 74,
   "metadata": {},
   "outputs": [
    {
     "data": {
      "image/png": "[encoded data removed]",
      "text/plain": [
       "<Figure size 640x480 with 1 Axes>"
      ]
     },
     "metadata": {},
     "output_type": "display_data"
    }
   ],
   "source": [
    "start_string = \"2021\"\n",
    "start_index = text_without_empty_lines.index(start_string) + len(start_string)\n",
    "text_to_process = text_without_empty_lines[start_index:]\n",
    "doc = nlp(text_to_process)\n",
    "sentences = sentences = [sent.text.strip() for sent in doc.sents if sent.text.strip()]\n",
    "sentences = sentences[:54]\n",
    "lemmas_hist_values = [score_sentence_by_lemma(sentence, most_common_lemmas) for sentence in sentences if score_sentence_by_lemma(sentence, most_common_lemmas) != 'No lemmas found']\n",
    "plt.hist(lemmas_hist_values, bins=10, range=(0, 1),edgecolor='red', linewidth=1.5,alpha=0.8)\n",
    "plt.xticks(np.arange(0, 1.1, 0.1))\n",
    "plt.xlabel('Sentence Score')\n",
    "plt.ylabel('Score Frequency')\n",
    "plt.title('Lemmas Score Distribution')\n",
    "\n",
    "plt.show();"
   ]
  },
  {
   "cell_type": "markdown",
   "metadata": {},
   "source": [
    "## Question 8"
   ]
  },
  {
   "cell_type": "markdown",
   "metadata": {},
   "source": [
    "8. Which tokens and lexems would be ommitted from the lists generated in questions 3 and 4 if we only wanted to consider nouns as interesting words?  How might we change the code to only consider nouns? Put your answer in this Markdown cell (you can edit it by double clicking it)."
   ]
  },
  {
   "cell_type": "code",
   "execution_count": 73,
   "metadata": {},
   "outputs": [
    {
     "name": "stdout",
     "output_type": "stream",
     "text": [
      "Top 5 most frequent nouns (lemmas):\n",
      "'laser': 35\n",
      "'headlight': 22\n",
      "'beam': 12\n",
      "'technology': 10\n",
      "'led': 6\n",
      "Five most frequent nouns:\n",
      "laser: 30 occurrences\n",
      "headlights: 17 occurrences\n",
      "technology: 10 occurrences\n",
      "beam: 7 occurrences\n",
      "leds: 6 occurrences\n"
     ]
    }
   ],
   "source": [
    "nlp = spacy.load(\"en_core_web_sm\")\n",
    "\n",
    "#code to single out nouns for lemmas\n",
    "\n",
    "def preprocess_text(text):\n",
    "    doc = nlp(text)\n",
    "    filtered_tokens = [token.lemma_.lower() for token in doc if token.pos_ == \"NOUN\" and not token.is_punct and not token.is_stop and not token.is_space]\n",
    "    return filtered_tokens\n",
    "\n",
    "if __name__ == \"__main__\":\n",
    "    try:\n",
    "        with open(\"article.pkl\", \"rb\") as file:\n",
    "            article_html = pickle.load(file)\n",
    "            soup = BeautifulSoup(article_html, 'html.parser')\n",
    "            article_text = soup.get_text()\n",
    "\n",
    "            lemmas = preprocess_text(article_text)\n",
    "\n",
    "            lemma_frequencies = Counter(lemmas)\n",
    "\n",
    "            most_common_lemmas = lemma_frequencies.most_common(5)\n",
    "\n",
    "            print(\"Top 5 most frequent nouns (lemmas):\")\n",
    "            for lemma, frequency in most_common_lemmas:\n",
    "                print(f\"'{lemma}': {frequency}\")\n",
    "\n",
    "    except FileNotFoundError:\n",
    "        print(\"File 'article.pkl' not found.\")\n",
    "    except Exception as e:\n",
    "        print(f\"An error occurred: {e}\")\n",
    "\n",
    "#code to single out nouns for tokens       \n",
    "        \n",
    "        \n",
    "def preprocess_text(text):\n",
    "    doc = nlp(text)\n",
    "    tokens = [token.text.lower() for token in doc if token.pos_ == \"NOUN\" and token.text.lower() not in STOP_WORDS and token.text.lower() not in string.punctuation and not token.is_space]\n",
    "    return tokens\n",
    "\n",
    "if __name__ == \"__main__\":\n",
    "    try:\n",
    "        with open(\"article.pkl\", \"rb\") as file:\n",
    "            article_html = pickle.load(file)\n",
    "            soup = BeautifulSoup(article_html, 'html.parser')\n",
    "            article_text = soup.get_text()\n",
    "\n",
    "            tokens = preprocess_text(article_text)\n",
    "\n",
    "            most_common_tokens = Counter(tokens).most_common(5)\n",
    "\n",
    "            print(\"Five most frequent nouns:\")\n",
    "            for token, frequency in most_common_tokens:\n",
    "                print(f\"{token}: {frequency} occurrences\")\n",
    "\n",
    "    except FileNotFoundError:\n",
    "        print(\"File 'article.pkl' not found.\")\n",
    "    except Exception as e:\n",
    "        print(f\"An error occurred: {e}\")"
   ]
  },
  {
   "cell_type": "markdown",
   "metadata": {},
   "source": []
  }
 ],
 "metadata": {
  "kernelspec": {
   "display_name": "Python 3 (ipykernel)",
   "language": "python",
   "name": "python3"
  },
  "language_info": {
   "codemirror_mode": {
    "name": "ipython",
    "version": 3
   },
   "file_extension": ".py",
   "mimetype": "text/x-python",
   "name": "python",
   "nbconvert_exporter": "python",
   "pygments_lexer": "ipython3",
   "version": "3.10.9"
  }
 },
 "nbformat": 4,
 "nbformat_minor": 4
}
